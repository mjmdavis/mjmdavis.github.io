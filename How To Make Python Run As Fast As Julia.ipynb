{
 "cells": [
  {
   "cell_type": "markdown",
   "metadata": {},
   "source": [
    "## Fibonacci"
   ]
  },
  {
   "cell_type": "code",
   "execution_count": 1,
   "metadata": {
    "collapsed": true
   },
   "outputs": [],
   "source": [
    "def fib(n):\n",
    "    if n<2:\n",
    "        return n\n",
    "    return fib(n-1)+fib(n-2)"
   ]
  },
  {
   "cell_type": "code",
   "execution_count": 2,
   "metadata": {
    "collapsed": false
   },
   "outputs": [
    {
     "name": "stdout",
     "output_type": "stream",
     "text": [
      "100 loops, best of 3: 9.77 ms per loop\n"
     ]
    }
   ],
   "source": [
    "%timeit fib(20)"
   ]
  },
  {
   "cell_type": "markdown",
   "metadata": {},
   "source": [
    "### Cython"
   ]
  },
  {
   "cell_type": "code",
   "execution_count": 3,
   "metadata": {
    "collapsed": false
   },
   "outputs": [],
   "source": [
    "%load_ext Cython"
   ]
  },
  {
   "cell_type": "code",
   "execution_count": 4,
   "metadata": {
    "collapsed": true
   },
   "outputs": [],
   "source": [
    "%%cython\n",
    "def fib_cython(n):\n",
    "    if n<2:\n",
    "        return n\n",
    "    return fib_cython(n-1)+fib_cython(n-2)"
   ]
  },
  {
   "cell_type": "code",
   "execution_count": 5,
   "metadata": {
    "collapsed": false
   },
   "outputs": [
    {
     "name": "stdout",
     "output_type": "stream",
     "text": [
      "100 loops, best of 3: 3.06 ms per loop\n"
     ]
    }
   ],
   "source": [
    "%timeit fib_cython(20)"
   ]
  },
  {
   "cell_type": "code",
   "execution_count": 6,
   "metadata": {
    "collapsed": true
   },
   "outputs": [],
   "source": [
    "%%cython\n",
    "cpdef long fib_cython_type(long n):\n",
    "    if n<2:\n",
    "        return n\n",
    "    return fib_cython_type(n-1)+fib_cython_type(n-2)"
   ]
  },
  {
   "cell_type": "code",
   "execution_count": 7,
   "metadata": {
    "collapsed": false
   },
   "outputs": [
    {
     "name": "stdout",
     "output_type": "stream",
     "text": [
      "10000 loops, best of 3: 128 µs per loop\n"
     ]
    }
   ],
   "source": [
    "%timeit fib_cython_type(20)"
   ]
  },
  {
   "cell_type": "markdown",
   "metadata": {},
   "source": [
    "### Caching"
   ]
  },
  {
   "cell_type": "code",
   "execution_count": 8,
   "metadata": {
    "collapsed": true
   },
   "outputs": [],
   "source": [
    "from functools import lru_cache as cache\n",
    "\n",
    "@cache(maxsize=None)\n",
    "def fib_cache(n):\n",
    "    if n<2:\n",
    "        return n\n",
    "    return fib_cache(n-1)+fib_cache(n-2)"
   ]
  },
  {
   "cell_type": "code",
   "execution_count": 9,
   "metadata": {
    "collapsed": false
   },
   "outputs": [
    {
     "name": "stdout",
     "output_type": "stream",
     "text": [
      "The slowest run took 206.64 times longer than the fastest. This could mean that an intermediate result is being cached.\n",
      "10000000 loops, best of 3: 147 ns per loop\n"
     ]
    }
   ],
   "source": [
    "%timeit fib_cache(20)"
   ]
  },
  {
   "cell_type": "code",
   "execution_count": 11,
   "metadata": {
    "collapsed": true
   },
   "outputs": [],
   "source": [
    "def fib_seq(n):\n",
    "    if n < 2:\n",
    "        return n\n",
    "    a,b = 1,0\n",
    "    for i in range(n-1):\n",
    "        a,b = a+b,a\n",
    "    return a   "
   ]
  },
  {
   "cell_type": "code",
   "execution_count": 12,
   "metadata": {
    "collapsed": false
   },
   "outputs": [
    {
     "name": "stdout",
     "output_type": "stream",
     "text": [
      "1000000 loops, best of 3: 1.45 µs per loop\n"
     ]
    }
   ],
   "source": [
    "%timeit fib_seq(20)"
   ]
  },
  {
   "cell_type": "code",
   "execution_count": 13,
   "metadata": {
    "collapsed": true
   },
   "outputs": [],
   "source": [
    "%%cython\n",
    "\n",
    "def fib_seq_cython(n):\n",
    "    if n < 2:\n",
    "        return n\n",
    "    a,b = 1,0\n",
    "    for i in range(n-1):\n",
    "        a,b = a+b,a\n",
    "    return a    \n",
    "\n",
    "cpdef long fib_seq_cython_type(long n):\n",
    "    if n < 2:\n",
    "        return n\n",
    "    cdef long a,b\n",
    "    a,b = 1,0\n",
    "    for i in range(n-1):\n",
    "        a,b = a+b,a\n",
    "    return a"
   ]
  },
  {
   "cell_type": "code",
   "execution_count": 14,
   "metadata": {
    "collapsed": false
   },
   "outputs": [
    {
     "name": "stdout",
     "output_type": "stream",
     "text": [
      "1000000 loops, best of 3: 810 ns per loop\n",
      "10000000 loops, best of 3: 73.3 ns per loop\n"
     ]
    }
   ],
   "source": [
    "%timeit fib_seq_cython(20)\n",
    "%timeit fib_seq_cython_type(20)"
   ]
  },
  {
   "cell_type": "markdown",
   "metadata": {},
   "source": [
    "### Compiling with Numba"
   ]
  },
  {
   "cell_type": "code",
   "execution_count": 15,
   "metadata": {
    "collapsed": true
   },
   "outputs": [],
   "source": [
    "from numba import jit"
   ]
  },
  {
   "cell_type": "code",
   "execution_count": 16,
   "metadata": {
    "collapsed": true
   },
   "outputs": [],
   "source": [
    "@jit\n",
    "def fib_seq_numba(n):\n",
    "    if n < 2:\n",
    "        return n\n",
    "    a,b = 1,0\n",
    "    for i in range(n-1):\n",
    "        a,b = a+b,a\n",
    "    return a   "
   ]
  },
  {
   "cell_type": "code",
   "execution_count": 17,
   "metadata": {
    "collapsed": false
   },
   "outputs": [
    {
     "name": "stdout",
     "output_type": "stream",
     "text": [
      "The slowest run took 839660.89 times longer than the fastest. This could mean that an intermediate result is being cached.\n",
      "1 loop, best of 3: 428 ns per loop\n"
     ]
    }
   ],
   "source": [
    "%timeit fib_seq_numba(20)"
   ]
  },
  {
   "cell_type": "markdown",
   "metadata": {},
   "source": [
    "## Quicksort"
   ]
  },
  {
   "cell_type": "markdown",
   "metadata": {},
   "source": [
    "### Numpy"
   ]
  },
  {
   "cell_type": "code",
   "execution_count": 18,
   "metadata": {
    "collapsed": true
   },
   "outputs": [],
   "source": [
    "def qsort_kernel(a, lo, hi):\n",
    "    i = lo\n",
    "    j = hi\n",
    "    while i < hi:\n",
    "        pivot = a[(lo+hi) // 2]\n",
    "        while i <= j:\n",
    "            while a[i] < pivot:\n",
    "                i += 1\n",
    "            while a[j] > pivot:\n",
    "                j -= 1\n",
    "            if i <= j:\n",
    "                a[i], a[j] = a[j], a[i]\n",
    "                i += 1\n",
    "                j -= 1\n",
    "        if lo < j:\n",
    "            qsort_kernel(a, lo, j)\n",
    "        lo = i\n",
    "        j = hi\n",
    "    return a"
   ]
  },
  {
   "cell_type": "code",
   "execution_count": 19,
   "metadata": {
    "collapsed": true
   },
   "outputs": [],
   "source": [
    "import random\n",
    "def benchmark_qsort():\n",
    "    lst = [ random.random() for i in range(1,5000) ]\n",
    "    qsort_kernel(lst, 0, len(lst)-1)"
   ]
  },
  {
   "cell_type": "code",
   "execution_count": 20,
   "metadata": {
    "collapsed": false
   },
   "outputs": [
    {
     "name": "stdout",
     "output_type": "stream",
     "text": [
      "10 loops, best of 3: 38.6 ms per loop\n"
     ]
    }
   ],
   "source": [
    "%timeit benchmark_qsort()"
   ]
  },
  {
   "cell_type": "code",
   "execution_count": 21,
   "metadata": {
    "collapsed": true
   },
   "outputs": [],
   "source": [
    "%%cython\n",
    "import numpy as np\n",
    "import cython\n",
    "\n",
    "@cython.boundscheck(False)\n",
    "@cython.wraparound(False)\n",
    "cdef double[:] \\\n",
    "qsort_kernel_cython_numpy_type(double[:] a, \\\n",
    "                               long lo, \\\n",
    "                               long hi):\n",
    "    cdef: \n",
    "        long i, j\n",
    "        double pivot\n",
    "    i = lo\n",
    "    j = hi\n",
    "    while i < hi:\n",
    "        pivot = a[(lo+hi) // 2]\n",
    "        while i <= j:\n",
    "            while a[i] < pivot:\n",
    "                i += 1\n",
    "            while a[j] > pivot:\n",
    "                j -= 1\n",
    "            if i <= j:\n",
    "                a[i], a[j] = a[j], a[i]\n",
    "                i += 1\n",
    "                j -= 1\n",
    "        if lo < j:\n",
    "            qsort_kernel_cython_numpy_type(a, lo, j)\n",
    "        lo = i\n",
    "        j = hi\n",
    "    return a\n",
    "\n",
    "def benchmark_qsort_numpy_cython():\n",
    "    lst = np.random.rand(5000)\n",
    "    qsort_kernel_cython_numpy_type(lst, 0, len(lst)-1)"
   ]
  },
  {
   "cell_type": "code",
   "execution_count": 22,
   "metadata": {
    "collapsed": false
   },
   "outputs": [
    {
     "name": "stdout",
     "output_type": "stream",
     "text": [
      "The slowest run took 5.44 times longer than the fastest. This could mean that an intermediate result is being cached.\n",
      "1000 loops, best of 3: 1.03 ms per loop\n"
     ]
    }
   ],
   "source": [
    "%timeit benchmark_qsort_numpy_cython()"
   ]
  },
  {
   "cell_type": "code",
   "execution_count": 23,
   "metadata": {
    "collapsed": true
   },
   "outputs": [],
   "source": [
    "def benchmark_sort_numpy():\n",
    "    lst = np.random.rand(5000)\n",
    "    np.sort(lst)"
   ]
  },
  {
   "cell_type": "code",
   "execution_count": 24,
   "metadata": {
    "collapsed": false
   },
   "outputs": [
    {
     "name": "stdout",
     "output_type": "stream",
     "text": [
      "The slowest run took 4.47 times longer than the fastest. This could mean that an intermediate result is being cached.\n",
      "1000 loops, best of 3: 319 µs per loop\n"
     ]
    }
   ],
   "source": [
    "%timeit benchmark_sort_numpy()"
   ]
  },
  {
   "cell_type": "markdown",
   "metadata": {},
   "source": [
    "## Mandelbrot Set"
   ]
  },
  {
   "cell_type": "code",
   "execution_count": 25,
   "metadata": {
    "collapsed": true
   },
   "outputs": [],
   "source": [
    "def mandel(z):\n",
    "    maxiter = 80\n",
    "    c = z\n",
    "    for n in range(maxiter):\n",
    "        if abs(z) > 2:\n",
    "            return n\n",
    "        z = z*z + c\n",
    "    return maxiter\n",
    "\n",
    "def mandelperf():\n",
    "    r1 = np.linspace(-2.0, 0.5, 26)\n",
    "    r2 = np.linspace(-1.0, 1.0, 21)\n",
    "    return [mandel(complex(r, i)) for r in r1 for i in r2]\n",
    " \n",
    "assert sum(mandelperf()) == 14791"
   ]
  },
  {
   "cell_type": "code",
   "execution_count": 26,
   "metadata": {
    "collapsed": false
   },
   "outputs": [
    {
     "name": "stdout",
     "output_type": "stream",
     "text": [
      "100 loops, best of 3: 3.89 ms per loop\n"
     ]
    }
   ],
   "source": [
    "%timeit mandelperf()"
   ]
  },
  {
   "cell_type": "markdown",
   "metadata": {},
   "source": [
    "### Cython"
   ]
  },
  {
   "cell_type": "code",
   "execution_count": 28,
   "metadata": {
    "collapsed": false
   },
   "outputs": [],
   "source": [
    "%%cython\n",
    "def mandel_cython(z):\n",
    "    maxiter = 80\n",
    "    c = z\n",
    "    for n in range(maxiter):\n",
    "        if abs(z) > 2:\n",
    "            return n\n",
    "        z = z*z + c\n",
    "    return maxiter"
   ]
  },
  {
   "cell_type": "code",
   "execution_count": 29,
   "metadata": {
    "collapsed": true
   },
   "outputs": [],
   "source": [
    "def mandelperf_cython():\n",
    "    r1 = np.linspace(-2.0, 0.5, 26)\n",
    "    r2 = np.linspace(-1.0, 1.0, 21)\n",
    "    return [mandel_cython(complex(r, i)) for r in r1 for i in r2]\n",
    " \n",
    "assert sum(mandelperf_cython()) == 14791"
   ]
  },
  {
   "cell_type": "code",
   "execution_count": 30,
   "metadata": {
    "collapsed": false
   },
   "outputs": [
    {
     "name": "stdout",
     "output_type": "stream",
     "text": [
      "1000 loops, best of 3: 1.69 ms per loop\n"
     ]
    }
   ],
   "source": [
    "%timeit mandelperf_cython()"
   ]
  },
  {
   "cell_type": "markdown",
   "metadata": {},
   "source": [
    "### Numba"
   ]
  },
  {
   "cell_type": "code",
   "execution_count": 48,
   "metadata": {
    "collapsed": true
   },
   "outputs": [],
   "source": [
    "@jit\n",
    "def mandel_numba(z):\n",
    "    maxiter = 80\n",
    "    c = z\n",
    "    for n in range(maxiter):\n",
    "        if abs(z) > 2:\n",
    "            return n\n",
    "        z = z*z + c\n",
    "    return maxiter\n",
    "\n",
    "def mandelperf_numba():\n",
    "    r1 = np.linspace(-2.0, 0.5, 26)\n",
    "    r2 = np.linspace(-1.0, 1.0, 21)\n",
    "    return [mandel_numba(complex(r, i)) for r in r1 for i in r2]"
   ]
  },
  {
   "cell_type": "code",
   "execution_count": 49,
   "metadata": {
    "collapsed": false
   },
   "outputs": [
    {
     "name": "stdout",
     "output_type": "stream",
     "text": [
      "The slowest run took 147.72 times longer than the fastest. This could mean that an intermediate result is being cached.\n",
      "1000 loops, best of 3: 1.17 ms per loop\n"
     ]
    }
   ],
   "source": [
    "%timeit mandelperf_numba()"
   ]
  },
  {
   "cell_type": "markdown",
   "metadata": {},
   "source": [
    "### Profiling"
   ]
  },
  {
   "cell_type": "code",
   "execution_count": 33,
   "metadata": {
    "collapsed": true
   },
   "outputs": [],
   "source": [
    "%load_ext line_profiler"
   ]
  },
  {
   "cell_type": "code",
   "execution_count": 50,
   "metadata": {
    "collapsed": false
   },
   "outputs": [
    {
     "name": "stdout",
     "output_type": "stream",
     "text": [
      "Timer unit: 1e-06 s\n",
      "\n",
      "Total time: 0.000784 s\n",
      "File: <ipython-input-48-621342073929>\n",
      "Function: mandelperf_numba at line 11\n",
      "\n",
      "Line #      Hits         Time  Per Hit   % Time  Line Contents\n",
      "==============================================================\n",
      "    11                                           def mandelperf_numba():\n",
      "    12         1           82     82.0     10.5      r1 = np.linspace(-2.0, 0.5, 26)\n",
      "    13         1           35     35.0      4.5      r2 = np.linspace(-1.0, 1.0, 21)\n",
      "    14         1          667    667.0     85.1      return [mandel_numba(complex(r, i)) for r in r1 for i in r2]\n",
      "\n"
     ]
    }
   ],
   "source": [
    "run = %lprun -r -s -f mandelperf_numba mandelperf_numba()\n",
    "run.print_stats()"
   ]
  },
  {
   "cell_type": "code",
   "execution_count": 51,
   "metadata": {
    "collapsed": true
   },
   "outputs": [],
   "source": [
    "def mandelperf_numba():\n",
    "    r1 = np.linspace(-2.0, 0.5, 26)\n",
    "    r2 = np.linspace(-1.0, 1.0, 21)\n",
    "    c3 = [complex(r,i) for r in r1 for i in r2]\n",
    "    return [mandel_numba(c) for c in c3]"
   ]
  },
  {
   "cell_type": "code",
   "execution_count": 57,
   "metadata": {
    "collapsed": false
   },
   "outputs": [
    {
     "name": "stdout",
     "output_type": "stream",
     "text": [
      "1000 loops, best of 3: 429 µs per loop\n"
     ]
    }
   ],
   "source": [
    "%timeit mandelperf_numba()"
   ]
  },
  {
   "cell_type": "code",
   "execution_count": 52,
   "metadata": {
    "collapsed": false
   },
   "outputs": [
    {
     "name": "stdout",
     "output_type": "stream",
     "text": [
      "Timer unit: 1e-06 s\n",
      "\n",
      "Total time: 0.001145 s\n",
      "File: <ipython-input-51-f5e8d196d72f>\n",
      "Function: mandelperf_numba at line 1\n",
      "\n",
      "Line #      Hits         Time  Per Hit   % Time  Line Contents\n",
      "==============================================================\n",
      "     1                                           def mandelperf_numba():\n",
      "     2         1          110    110.0      9.6      r1 = np.linspace(-2.0, 0.5, 26)\n",
      "     3         1           53     53.0      4.6      r2 = np.linspace(-1.0, 1.0, 21)\n",
      "     4         1          527    527.0     46.0      c3 = [complex(r,i) for r in r1 for i in r2]\n",
      "     5         1          455    455.0     39.7      return [mandel_numba(c) for c in c3]\n",
      "\n"
     ]
    }
   ],
   "source": [
    "run = %lprun -r -s -f mandelperf_numba mandelperf_numba()\n",
    "run.print_stats()"
   ]
  },
  {
   "cell_type": "code",
   "execution_count": 53,
   "metadata": {
    "collapsed": true
   },
   "outputs": [],
   "source": [
    "@jit\n",
    "def mandelperf_numba_mesh():\n",
    "    width = 26\n",
    "    height = 21\n",
    "    r1 = np.linspace(-2.0, 0.5, width)\n",
    "    r2 = np.linspace(-1.0, 1.0, height)\n",
    "    mandel_set = np.empty((width,height), dtype=int)\n",
    "    for i in range(width):\n",
    "        for j in range(height):\n",
    "            mandel_set[i,j] = mandel_numba(r1[i] + 1j*r2[j])\n",
    "    return mandel_set"
   ]
  },
  {
   "cell_type": "code",
   "execution_count": 55,
   "metadata": {
    "collapsed": false
   },
   "outputs": [
    {
     "name": "stdout",
     "output_type": "stream",
     "text": [
      "10000 loops, best of 3: 129 µs per loop\n"
     ]
    }
   ],
   "source": [
    "%timeit mandelperf_numba_mesh()"
   ]
  },
  {
   "cell_type": "code",
   "execution_count": null,
   "metadata": {
    "collapsed": true
   },
   "outputs": [],
   "source": [
    "# def mandel_numba(z):\n",
    "#     maxiter = 80\n",
    "#     c = z\n",
    "#     for n in range(maxiter):\n",
    "#         if abs(z) > 2:\n",
    "#             return n\n",
    "#         z = z*z + c\n",
    "#     return maxiter\n",
    "\n",
    "def mandelperf_vector_mesh():\n",
    "    width = 26\n",
    "    height = 21\n",
    "    r1 = np.linspace(-2.0, 0.5, width)\n",
    "    r2 = np.linspace(-1.0, 1.0, height)\n",
    "    mandel_set = np.empty((width,height), dtype=int)\n",
    "    \n",
    "    \n",
    "    \n",
    "    return mandel_set"
   ]
  },
  {
   "cell_type": "markdown",
   "metadata": {},
   "source": [
    "### Vectorizing"
   ]
  },
  {
   "cell_type": "code",
   "execution_count": null,
   "metadata": {
    "collapsed": true
   },
   "outputs": [],
   "source": []
  }
 ],
 "metadata": {
  "kernelspec": {
   "display_name": "Python 3",
   "language": "python",
   "name": "python3"
  },
  "language_info": {
   "codemirror_mode": {
    "name": "ipython",
    "version": 3
   },
   "file_extension": ".py",
   "mimetype": "text/x-python",
   "name": "python",
   "nbconvert_exporter": "python",
   "pygments_lexer": "ipython3",
   "version": "3.6.1"
  }
 },
 "nbformat": 4,
 "nbformat_minor": 2
}
