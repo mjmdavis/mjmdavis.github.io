{
 "cells": [
  {
   "cell_type": "markdown",
   "metadata": {
    "deletable": true,
    "editable": true
   },
   "source": [
    "## Introduction\n",
    "To determine where my friends and I should meet up, I have prepared this analysis. The analysis assumes automobile travel, to perform a similar analysis for public transport, you'll need a [Google Maps API key](https://developers.google.com/maps/) and to make a tiny change to the code."
   ]
  },
  {
   "cell_type": "markdown",
   "metadata": {},
   "source": [
    "This is deceptively simple. We will be creating a distance matrix with the Google Maps API and then doing a multiply and accumulate 😆."
   ]
  },
  {
   "cell_type": "markdown",
   "metadata": {
    "deletable": true,
    "editable": true
   },
   "source": [
    "## Method"
   ]
  },
  {
   "cell_type": "markdown",
   "metadata": {
    "deletable": true,
    "editable": true
   },
   "source": [
    "First import some libraries"
   ]
  },
  {
   "cell_type": "code",
   "execution_count": 1,
   "metadata": {
    "collapsed": true,
    "deletable": true,
    "editable": true
   },
   "outputs": [],
   "source": [
    "import pandas as pd\n",
    "import requests\n",
    "import datetime"
   ]
  },
  {
   "cell_type": "markdown",
   "metadata": {
    "deletable": true,
    "editable": true
   },
   "source": [
    "Now we need to establish the location of individuals who will be attending the fabulous event."
   ]
  },
  {
   "cell_type": "code",
   "execution_count": 2,
   "metadata": {
    "collapsed": true,
    "deletable": true,
    "editable": true
   },
   "outputs": [],
   "source": [
    "homes = [\n",
    "     ['Mike', 'Kaiserslautern, Germany'],\n",
    "     ['Smash', 'Kaiserslautern, Germany'],\n",
    "     ['Yawn', 'Kaiserslautern, Germany'],\n",
    "     ['Therese', 'Kaiserslautern, Germany'],\n",
    "     ['Dannyboy', 'Frankfurt, Germany'],\n",
    "     ['Matador', 'Frankfurt, Germany'],\n",
    "     ['Karabiner', 'Aachen, Germany'],\n",
    "     ['Matty', 'Aachen, Germany'],\n",
    "     ['Flow', 'Stuttgart, Germany']\n",
    "        ]"
   ]
  },
  {
   "cell_type": "markdown",
   "metadata": {
    "deletable": true,
    "editable": true
   },
   "source": [
    "Create a dataframe from the list."
   ]
  },
  {
   "cell_type": "code",
   "execution_count": 3,
   "metadata": {
    "collapsed": false,
    "deletable": true,
    "editable": true
   },
   "outputs": [
    {
     "data": {
      "text/html": [
       "<div>\n",
       "<style>\n",
       "    .dataframe thead tr:only-child th {\n",
       "        text-align: right;\n",
       "    }\n",
       "\n",
       "    .dataframe thead th {\n",
       "        text-align: left;\n",
       "    }\n",
       "\n",
       "    .dataframe tbody tr th {\n",
       "        vertical-align: top;\n",
       "    }\n",
       "</style>\n",
       "<table border=\"1\" class=\"dataframe\">\n",
       "  <thead>\n",
       "    <tr style=\"text-align: right;\">\n",
       "      <th></th>\n",
       "      <th>person</th>\n",
       "      <th>home</th>\n",
       "    </tr>\n",
       "  </thead>\n",
       "  <tbody>\n",
       "    <tr>\n",
       "      <th>0</th>\n",
       "      <td>Mike</td>\n",
       "      <td>Kaiserslautern, Germany</td>\n",
       "    </tr>\n",
       "    <tr>\n",
       "      <th>1</th>\n",
       "      <td>Smash</td>\n",
       "      <td>Kaiserslautern, Germany</td>\n",
       "    </tr>\n",
       "    <tr>\n",
       "      <th>2</th>\n",
       "      <td>Yawn</td>\n",
       "      <td>Kaiserslautern, Germany</td>\n",
       "    </tr>\n",
       "    <tr>\n",
       "      <th>3</th>\n",
       "      <td>Therese</td>\n",
       "      <td>Kaiserslautern, Germany</td>\n",
       "    </tr>\n",
       "    <tr>\n",
       "      <th>4</th>\n",
       "      <td>Dannyboy</td>\n",
       "      <td>Frankfurt, Germany</td>\n",
       "    </tr>\n",
       "    <tr>\n",
       "      <th>5</th>\n",
       "      <td>Matador</td>\n",
       "      <td>Frankfurt, Germany</td>\n",
       "    </tr>\n",
       "    <tr>\n",
       "      <th>6</th>\n",
       "      <td>Karabiner</td>\n",
       "      <td>Aachen, Germany</td>\n",
       "    </tr>\n",
       "    <tr>\n",
       "      <th>7</th>\n",
       "      <td>Matty</td>\n",
       "      <td>Aachen, Germany</td>\n",
       "    </tr>\n",
       "    <tr>\n",
       "      <th>8</th>\n",
       "      <td>Flow</td>\n",
       "      <td>Stuttgart, Germany</td>\n",
       "    </tr>\n",
       "  </tbody>\n",
       "</table>\n",
       "</div>"
      ],
      "text/plain": [
       "      person                     home\n",
       "0       Mike  Kaiserslautern, Germany\n",
       "1      Smash  Kaiserslautern, Germany\n",
       "2       Yawn  Kaiserslautern, Germany\n",
       "3    Therese  Kaiserslautern, Germany\n",
       "4   Dannyboy       Frankfurt, Germany\n",
       "5    Matador       Frankfurt, Germany\n",
       "6  Karabiner          Aachen, Germany\n",
       "7      Matty          Aachen, Germany\n",
       "8       Flow       Stuttgart, Germany"
      ]
     },
     "execution_count": 3,
     "metadata": {},
     "output_type": "execute_result"
    }
   ],
   "source": [
    "homes = pd.DataFrame(homes, columns=['person', 'home'])\n",
    "homes"
   ]
  },
  {
   "cell_type": "markdown",
   "metadata": {
    "deletable": true,
    "editable": true
   },
   "source": [
    "The set of destinations can be the same as the set of homes."
   ]
  },
  {
   "cell_type": "code",
   "execution_count": 4,
   "metadata": {
    "collapsed": true,
    "deletable": true,
    "editable": true
   },
   "outputs": [],
   "source": [
    "all_homes = homes.home.unique()\n",
    "destinations = all_homes"
   ]
  },
  {
   "cell_type": "markdown",
   "metadata": {
    "deletable": true,
    "editable": true
   },
   "source": [
    "Build a URL for the google [distance matrix API](https://developers.google.com/maps/documentation/distance-matrix/intro#travel_modes)."
   ]
  },
  {
   "cell_type": "code",
   "execution_count": 5,
   "metadata": {
    "collapsed": false,
    "deletable": true,
    "editable": true
   },
   "outputs": [],
   "source": [
    "params = [\n",
    "    f'origins={\"|\".join(destinations)}',\n",
    "    f'destinations={\"|\".join(destinations)}',\n",
    "    f'mode=car', # comment this and uncomment below for public transport\n",
    "    # f'mode=transit',\n",
    "    # f'key={api_key}',\n",
    "]\n",
    "params = '&'.join(params)"
   ]
  },
  {
   "cell_type": "code",
   "execution_count": 6,
   "metadata": {
    "collapsed": false,
    "deletable": true,
    "editable": true
   },
   "outputs": [
    {
     "data": {
      "text/plain": [
       "'https://maps.googleapis.com/maps/api/distancematrix/json?origins=Kaiserslautern, Germany|Frankfurt, Germany|Aachen, Germany|Stuttgart, Germany&destinations=Kaiserslautern, Germany|Frankfurt, Germany|Aachen, Germany|Stuttgart, Germany&mode=car'"
      ]
     },
     "execution_count": 6,
     "metadata": {},
     "output_type": "execute_result"
    }
   ],
   "source": [
    "url = f'https://maps.googleapis.com/maps/api/distancematrix/json?{params}'\n",
    "url"
   ]
  },
  {
   "cell_type": "markdown",
   "metadata": {
    "deletable": true,
    "editable": true
   },
   "source": [
    "Fetch the URL and put the result into a Data Frame."
   ]
  },
  {
   "cell_type": "code",
   "execution_count": 7,
   "metadata": {
    "collapsed": false,
    "deletable": true,
    "editable": true
   },
   "outputs": [
    {
     "data": {
      "text/plain": [
       "{'destination_addresses': ['Kaiserslautern, Germany',\n",
       "  'Frankfurt, Germany',\n",
       "  'Aachen, Germany',\n",
       "  'Stuttgart, Germany'],\n",
       " 'origin_addresses': ['Kaiserslautern, Germany',\n",
       "  'Frankfurt, Germany',\n",
       "  'Aachen, Germany',\n",
       "  'Stuttgart, Germany'],\n",
       " 'rows': [{'elements': [{'distance': {'text': '1 m', 'value': 0},\n",
       "     'duration': {'text': '1 min', 'value': 0},\n",
       "     'status': 'OK'},\n",
       "    {'distance': {'text': '118 km', 'value': 118039},\n",
       "     'duration': {'text': '1 hour 25 mins', 'value': 5123},\n",
       "     'status': 'OK'},\n",
       "    {'distance': {'text': '289 km', 'value': 289084},\n",
       "     'duration': {'text': '2 hours 55 mins', 'value': 10477},\n",
       "     'status': 'OK'},\n",
       "    {'distance': {'text': '197 km', 'value': 197209},\n",
       "     'duration': {'text': '2 hours 6 mins', 'value': 7531},\n",
       "     'status': 'OK'}]},\n",
       "  {'elements': [{'distance': {'text': '118 km', 'value': 117855},\n",
       "     'duration': {'text': '1 hour 26 mins', 'value': 5180},\n",
       "     'status': 'OK'},\n",
       "    {'distance': {'text': '1 m', 'value': 0},\n",
       "     'duration': {'text': '1 min', 'value': 0},\n",
       "     'status': 'OK'},\n",
       "    {'distance': {'text': '263 km', 'value': 262855},\n",
       "     'duration': {'text': '2 hours 41 mins', 'value': 9631},\n",
       "     'status': 'OK'},\n",
       "    {'distance': {'text': '206 km', 'value': 205643},\n",
       "     'duration': {'text': '2 hours 13 mins', 'value': 7952},\n",
       "     'status': 'OK'}]},\n",
       "  {'elements': [{'distance': {'text': '288 km', 'value': 287617},\n",
       "     'duration': {'text': '2 hours 56 mins', 'value': 10544},\n",
       "     'status': 'OK'},\n",
       "    {'distance': {'text': '262 km', 'value': 262357},\n",
       "     'duration': {'text': '2 hours 42 mins', 'value': 9739},\n",
       "     'status': 'OK'},\n",
       "    {'distance': {'text': '1 m', 'value': 0},\n",
       "     'duration': {'text': '1 min', 'value': 0},\n",
       "     'status': 'OK'},\n",
       "    {'distance': {'text': '420 km', 'value': 420472},\n",
       "     'duration': {'text': '4 hours 11 mins', 'value': 15031},\n",
       "     'status': 'OK'}]},\n",
       "  {'elements': [{'distance': {'text': '165 km', 'value': 164964},\n",
       "     'duration': {'text': '2 hours 9 mins', 'value': 7717},\n",
       "     'status': 'OK'},\n",
       "    {'distance': {'text': '206 km', 'value': 206191},\n",
       "     'duration': {'text': '2 hours 15 mins', 'value': 8107},\n",
       "     'status': 'OK'},\n",
       "    {'distance': {'text': '421 km', 'value': 421379},\n",
       "     'duration': {'text': '4 hours 11 mins', 'value': 15088},\n",
       "     'status': 'OK'},\n",
       "    {'distance': {'text': '1 m', 'value': 0},\n",
       "     'duration': {'text': '1 min', 'value': 0},\n",
       "     'status': 'OK'}]}],\n",
       " 'status': 'OK'}"
      ]
     },
     "execution_count": 7,
     "metadata": {},
     "output_type": "execute_result"
    }
   ],
   "source": [
    "r = requests.get(url)\n",
    "content = r.json()\n",
    "content"
   ]
  },
  {
   "cell_type": "code",
   "execution_count": 8,
   "metadata": {
    "collapsed": false,
    "deletable": true,
    "editable": true
   },
   "outputs": [],
   "source": [
    "distance_matrix = [\n",
    "    [datetime.timedelta(seconds=dest['duration']['value']) \n",
    "                    for dest in row['elements']] \n",
    "                   for row in content['rows']]"
   ]
  },
  {
   "cell_type": "code",
   "execution_count": 9,
   "metadata": {
    "collapsed": false,
    "deletable": true,
    "editable": true
   },
   "outputs": [],
   "source": [
    "travel_times = pd.DataFrame(\n",
    "    distance_matrix,\n",
    "    columns=content['destination_addresses'],\n",
    "    index=content['origin_addresses']\n",
    ")"
   ]
  },
  {
   "cell_type": "code",
   "execution_count": 10,
   "metadata": {
    "collapsed": false,
    "deletable": true,
    "editable": true
   },
   "outputs": [
    {
     "data": {
      "text/html": [
       "<div>\n",
       "<style>\n",
       "    .dataframe thead tr:only-child th {\n",
       "        text-align: right;\n",
       "    }\n",
       "\n",
       "    .dataframe thead th {\n",
       "        text-align: left;\n",
       "    }\n",
       "\n",
       "    .dataframe tbody tr th {\n",
       "        vertical-align: top;\n",
       "    }\n",
       "</style>\n",
       "<table border=\"1\" class=\"dataframe\">\n",
       "  <thead>\n",
       "    <tr style=\"text-align: right;\">\n",
       "      <th></th>\n",
       "      <th>Kaiserslautern, Germany</th>\n",
       "      <th>Frankfurt, Germany</th>\n",
       "      <th>Aachen, Germany</th>\n",
       "      <th>Stuttgart, Germany</th>\n",
       "    </tr>\n",
       "  </thead>\n",
       "  <tbody>\n",
       "    <tr>\n",
       "      <th>Kaiserslautern, Germany</th>\n",
       "      <td>00:00:00</td>\n",
       "      <td>01:25:23</td>\n",
       "      <td>02:54:37</td>\n",
       "      <td>02:05:31</td>\n",
       "    </tr>\n",
       "    <tr>\n",
       "      <th>Frankfurt, Germany</th>\n",
       "      <td>01:26:20</td>\n",
       "      <td>00:00:00</td>\n",
       "      <td>02:40:31</td>\n",
       "      <td>02:12:32</td>\n",
       "    </tr>\n",
       "    <tr>\n",
       "      <th>Aachen, Germany</th>\n",
       "      <td>02:55:44</td>\n",
       "      <td>02:42:19</td>\n",
       "      <td>00:00:00</td>\n",
       "      <td>04:10:31</td>\n",
       "    </tr>\n",
       "    <tr>\n",
       "      <th>Stuttgart, Germany</th>\n",
       "      <td>02:08:37</td>\n",
       "      <td>02:15:07</td>\n",
       "      <td>04:11:28</td>\n",
       "      <td>00:00:00</td>\n",
       "    </tr>\n",
       "  </tbody>\n",
       "</table>\n",
       "</div>"
      ],
      "text/plain": [
       "                        Kaiserslautern, Germany Frankfurt, Germany  \\\n",
       "Kaiserslautern, Germany                00:00:00           01:25:23   \n",
       "Frankfurt, Germany                     01:26:20           00:00:00   \n",
       "Aachen, Germany                        02:55:44           02:42:19   \n",
       "Stuttgart, Germany                     02:08:37           02:15:07   \n",
       "\n",
       "                        Aachen, Germany Stuttgart, Germany  \n",
       "Kaiserslautern, Germany        02:54:37           02:05:31  \n",
       "Frankfurt, Germany             02:40:31           02:12:32  \n",
       "Aachen, Germany                00:00:00           04:10:31  \n",
       "Stuttgart, Germany             04:11:28           00:00:00  "
      ]
     },
     "execution_count": 10,
     "metadata": {},
     "output_type": "execute_result"
    }
   ],
   "source": [
    "travel_times"
   ]
  },
  {
   "cell_type": "markdown",
   "metadata": {
    "deletable": true,
    "editable": true
   },
   "source": [
    "Write a function that will sum all of the individual travel times to create a 'total travel time' for a given destination."
   ]
  },
  {
   "cell_type": "code",
   "execution_count": 11,
   "metadata": {
    "collapsed": true,
    "deletable": true,
    "editable": true
   },
   "outputs": [],
   "source": [
    "def total_travel_time(destination):\n",
    "    dest_times = travel_times[destination].sort_index()\n",
    "    counts = homes.groupby('home').count().sort_index()\n",
    "    counts.index.name = None\n",
    "    person_times = dest_times * counts.person\n",
    "    return person_times.sum()"
   ]
  },
  {
   "cell_type": "markdown",
   "metadata": {
    "deletable": true,
    "editable": true
   },
   "source": [
    "Create another DataFrame with the total accumulated travel time for each destination."
   ]
  },
  {
   "cell_type": "code",
   "execution_count": 12,
   "metadata": {
    "collapsed": false,
    "deletable": true,
    "editable": true
   },
   "outputs": [],
   "source": [
    "total_travel_times = list(map(total_travel_time, destinations))"
   ]
  },
  {
   "cell_type": "code",
   "execution_count": 13,
   "metadata": {
    "collapsed": false,
    "deletable": true,
    "editable": true
   },
   "outputs": [],
   "source": [
    "tt_df = pd.DataFrame(\n",
    "    list(map(total_travel_time, destinations)),\n",
    "    index=destinations,\n",
    "    columns=['time']\n",
    ")"
   ]
  },
  {
   "cell_type": "code",
   "execution_count": 14,
   "metadata": {
    "collapsed": false,
    "deletable": true,
    "editable": true
   },
   "outputs": [
    {
     "data": {
      "text/html": [
       "<div>\n",
       "<style>\n",
       "    .dataframe thead tr:only-child th {\n",
       "        text-align: right;\n",
       "    }\n",
       "\n",
       "    .dataframe thead th {\n",
       "        text-align: left;\n",
       "    }\n",
       "\n",
       "    .dataframe tbody tr th {\n",
       "        vertical-align: top;\n",
       "    }\n",
       "</style>\n",
       "<table border=\"1\" class=\"dataframe\">\n",
       "  <thead>\n",
       "    <tr style=\"text-align: right;\">\n",
       "      <th></th>\n",
       "      <th>time</th>\n",
       "    </tr>\n",
       "  </thead>\n",
       "  <tbody>\n",
       "    <tr>\n",
       "      <th>Kaiserslautern, Germany</th>\n",
       "      <td>10:52:45</td>\n",
       "    </tr>\n",
       "    <tr>\n",
       "      <th>Frankfurt, Germany</th>\n",
       "      <td>13:21:17</td>\n",
       "    </tr>\n",
       "    <tr>\n",
       "      <th>Aachen, Germany</th>\n",
       "      <td>21:10:58</td>\n",
       "    </tr>\n",
       "    <tr>\n",
       "      <th>Stuttgart, Germany</th>\n",
       "      <td>21:08:10</td>\n",
       "    </tr>\n",
       "  </tbody>\n",
       "</table>\n",
       "</div>"
      ],
      "text/plain": [
       "                            time\n",
       "Kaiserslautern, Germany 10:52:45\n",
       "Frankfurt, Germany      13:21:17\n",
       "Aachen, Germany         21:10:58\n",
       "Stuttgart, Germany      21:08:10"
      ]
     },
     "execution_count": 14,
     "metadata": {},
     "output_type": "execute_result"
    }
   ],
   "source": [
    "tt_df"
   ]
  },
  {
   "cell_type": "markdown",
   "metadata": {
    "deletable": true,
    "editable": true
   },
   "source": [
    "Now we create a bar graph because... bar graphs."
   ]
  },
  {
   "cell_type": "code",
   "execution_count": 15,
   "metadata": {
    "collapsed": true,
    "deletable": true,
    "editable": true
   },
   "outputs": [],
   "source": [
    "import numpy as np\n",
    "import matplotlib.pyplot as plt\n",
    "%matplotlib inline"
   ]
  },
  {
   "cell_type": "code",
   "execution_count": 16,
   "metadata": {
    "collapsed": false,
    "deletable": true,
    "editable": true
   },
   "outputs": [
    {
     "data": {
      "text/plain": [
       "<matplotlib.text.Text at 0x10a0f1ba8>"
      ]
     },
     "execution_count": 16,
     "metadata": {},
     "output_type": "execute_result"
    },
    {
     "data": {
      "image/png": "[encoded data removed]",
      "text/plain": [
       "<matplotlib.figure.Figure at 0x10a0970f0>"
      ]
     },
     "metadata": {},
     "output_type": "display_data"
    }
   ],
   "source": [
    "plt.bar(\n",
    "    left=range(0, 4, 1),\n",
    "    height=tt_df.time.apply(datetime.timedelta.total_seconds)/(60*60)\n",
    ")\n",
    "ticks = plt.xticks(range(0, 4, 1), tt_df.index, rotation=45)\n",
    "max_time = max(tt_df.time.apply(datetime.timedelta.total_seconds)/(60*60))\n",
    "plt.yticks(np.arange(0,max_time,5))\n",
    "plt.ylabel('hours')\n",
    "plt.xlabel('meeting point')\n",
    "plt.title('cumulative travel times')"
   ]
  },
  {
   "cell_type": "markdown",
   "metadata": {
    "deletable": true,
    "editable": true
   },
   "source": [
    "## Conclusion"
   ]
  },
  {
   "cell_type": "markdown",
   "metadata": {
    "deletable": true,
    "editable": true
   },
   "source": [
    "We should meet in Kaiserslautern."
   ]
  },
  {
   "cell_type": "markdown",
   "metadata": {},
   "source": [
    "## Unless!!!\n",
    "\n",
    "We want to weight longer trip times more heavily. That is, it's ok for everyone to travel a bit longer if it saves anyone having an excessively long trip.\n",
    "\n",
    "We can represent this by squaring the trip time for each destination."
   ]
  },
  {
   "cell_type": "code",
   "execution_count": 17,
   "metadata": {
    "collapsed": false
   },
   "outputs": [
    {
     "data": {
      "text/html": [
       "<div>\n",
       "<style>\n",
       "    .dataframe thead tr:only-child th {\n",
       "        text-align: right;\n",
       "    }\n",
       "\n",
       "    .dataframe thead th {\n",
       "        text-align: left;\n",
       "    }\n",
       "\n",
       "    .dataframe tbody tr th {\n",
       "        vertical-align: top;\n",
       "    }\n",
       "</style>\n",
       "<table border=\"1\" class=\"dataframe\">\n",
       "  <thead>\n",
       "    <tr style=\"text-align: right;\">\n",
       "      <th></th>\n",
       "      <th>time</th>\n",
       "    </tr>\n",
       "  </thead>\n",
       "  <tbody>\n",
       "    <tr>\n",
       "      <th>Kaiserslautern, Germany</th>\n",
       "      <td>335568761.0</td>\n",
       "    </tr>\n",
       "    <tr>\n",
       "      <th>Frankfurt, Germany</th>\n",
       "      <td>360400207.0</td>\n",
       "    </tr>\n",
       "    <tr>\n",
       "      <th>Aachen, Germany</th>\n",
       "      <td>852230182.0</td>\n",
       "    </tr>\n",
       "    <tr>\n",
       "      <th>Stuttgart, Germany</th>\n",
       "      <td>805194374.0</td>\n",
       "    </tr>\n",
       "  </tbody>\n",
       "</table>\n",
       "</div>"
      ],
      "text/plain": [
       "                                time\n",
       "Kaiserslautern, Germany  335568761.0\n",
       "Frankfurt, Germany       360400207.0\n",
       "Aachen, Germany          852230182.0\n",
       "Stuttgart, Germany       805194374.0"
      ]
     },
     "execution_count": 17,
     "metadata": {},
     "output_type": "execute_result"
    }
   ],
   "source": [
    "def total_travel_time_squared(destination):\n",
    "    dest_times = travel_times[destination]\\\n",
    "                    .sort_index()\\\n",
    "                    .apply(datetime.timedelta.total_seconds)\n",
    "    counts = homes.groupby('home').count().sort_index()\n",
    "    counts.index.name = None\n",
    "    person_times = (dest_times*dest_times) * counts.person\n",
    "    return person_times.sum()\n",
    "\n",
    "tt_df = pd.DataFrame(\n",
    "    list(map(total_travel_time_squared, destinations)),\n",
    "    index=destinations,\n",
    "    columns=['time']\n",
    ")\n",
    "tt_df"
   ]
  },
  {
   "cell_type": "code",
   "execution_count": 18,
   "metadata": {
    "collapsed": false
   },
   "outputs": [
    {
     "data": {
      "image/png": "[encoded data removed]",
      "text/plain": [
       "<matplotlib.figure.Figure at 0x10a0b9828>"
      ]
     },
     "metadata": {},
     "output_type": "display_data"
    }
   ],
   "source": [
    "plt.bar(\n",
    "    left=range(0, 4, 1),\n",
    "    height=tt_df.time\n",
    ")\n",
    "ticks = plt.xticks(range(0, 4, 1), tt_df.index, rotation=45)\n",
    "#plt.yticks(np.arange(0,max_time,5))\n",
    "plt.ylabel('squared seconds')\n",
    "plt.xlabel('meeting point')\n",
    "title = plt.title('travel cost (lower is better)')"
   ]
  },
  {
   "cell_type": "markdown",
   "metadata": {},
   "source": [
    "## Conclusion\n",
    "We should meet in Kaiserslautern."
   ]
  }
 ],
 "metadata": {
  "kernelspec": {
   "display_name": "Python 3",
   "language": "python",
   "name": "python3"
  },
  "language_info": {
   "codemirror_mode": {
    "name": "ipython",
    "version": 3
   },
   "file_extension": ".py",
   "mimetype": "text/x-python",
   "name": "python",
   "nbconvert_exporter": "python",
   "pygments_lexer": "ipython3",
   "version": "3.6.1"
  }
 },
 "nbformat": 4,
 "nbformat_minor": 2
}
