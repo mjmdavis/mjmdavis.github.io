{
 "cells": [
  {
   "cell_type": "markdown",
   "metadata": {
    "deletable": true,
    "editable": true
   },
   "source": [
    "## What is the cost of a reunion?\n",
    "So you're having a reunion. Matty says: \" Let's do it in Aachen.\". Mike says: \"Let's do it in Kaiserslautern.\". There are several people coming... Where should they all meet?\n",
    "\n",
    "This is a pretty common problem. You could be having a party, picking a location for a warehouse, building a new factory. In each case you will optimize the location based on several variables.\n",
    "\n",
    "In this example, I've chosen travel time as my cost function.  \n",
    "Google Maps has a nice API that returns a distance and time matrix. So we'll use that."
   ]
  },
  {
   "cell_type": "markdown",
   "metadata": {},
   "source": [
    "### Getting it to run"
   ]
  },
  {
   "cell_type": "markdown",
   "metadata": {
    "deletable": true,
    "editable": true
   },
   "source": [
    "First import some libraries"
   ]
  },
  {
   "cell_type": "code",
   "execution_count": 1,
   "metadata": {
    "collapsed": true,
    "deletable": true,
    "editable": true
   },
   "outputs": [],
   "source": [
    "import pandas as pd\n",
    "import requests\n",
    "import datetime"
   ]
  },
  {
   "cell_type": "markdown",
   "metadata": {
    "deletable": true,
    "editable": true
   },
   "source": [
    "Now we need to establish the location of individuals who will be attending the fabulous event."
   ]
  },
  {
   "cell_type": "code",
   "execution_count": 2,
   "metadata": {
    "collapsed": false,
    "deletable": true,
    "editable": true
   },
   "outputs": [
    {
     "data": {
      "text/html": [
       "<div>\n",
       "<style>\n",
       "    .dataframe thead tr:only-child th {\n",
       "        text-align: right;\n",
       "    }\n",
       "\n",
       "    .dataframe thead th {\n",
       "        text-align: left;\n",
       "    }\n",
       "\n",
       "    .dataframe tbody tr th {\n",
       "        vertical-align: top;\n",
       "    }\n",
       "</style>\n",
       "<table border=\"1\" class=\"dataframe\">\n",
       "  <thead>\n",
       "    <tr style=\"text-align: right;\">\n",
       "      <th></th>\n",
       "      <th>person</th>\n",
       "      <th>home</th>\n",
       "    </tr>\n",
       "  </thead>\n",
       "  <tbody>\n",
       "    <tr>\n",
       "      <th>0</th>\n",
       "      <td>Mike</td>\n",
       "      <td>Kaiserslautern, Germany</td>\n",
       "    </tr>\n",
       "    <tr>\n",
       "      <th>1</th>\n",
       "      <td>Smash</td>\n",
       "      <td>Kaiserslautern, Germany</td>\n",
       "    </tr>\n",
       "    <tr>\n",
       "      <th>2</th>\n",
       "      <td>Yawn</td>\n",
       "      <td>Kaiserslautern, Germany</td>\n",
       "    </tr>\n",
       "    <tr>\n",
       "      <th>3</th>\n",
       "      <td>Therese</td>\n",
       "      <td>Kaiserslautern, Germany</td>\n",
       "    </tr>\n",
       "    <tr>\n",
       "      <th>4</th>\n",
       "      <td>Dannyboy</td>\n",
       "      <td>Frankfurt, Germany</td>\n",
       "    </tr>\n",
       "    <tr>\n",
       "      <th>5</th>\n",
       "      <td>Matador</td>\n",
       "      <td>Frankfurt, Germany</td>\n",
       "    </tr>\n",
       "    <tr>\n",
       "      <th>6</th>\n",
       "      <td>Karabiner</td>\n",
       "      <td>Aachen, Germany</td>\n",
       "    </tr>\n",
       "    <tr>\n",
       "      <th>7</th>\n",
       "      <td>Matty</td>\n",
       "      <td>Aachen, Germany</td>\n",
       "    </tr>\n",
       "    <tr>\n",
       "      <th>8</th>\n",
       "      <td>Flow</td>\n",
       "      <td>Stuttgart, Germany</td>\n",
       "    </tr>\n",
       "  </tbody>\n",
       "</table>\n",
       "</div>"
      ],
      "text/plain": [
       "      person                     home\n",
       "0       Mike  Kaiserslautern, Germany\n",
       "1      Smash  Kaiserslautern, Germany\n",
       "2       Yawn  Kaiserslautern, Germany\n",
       "3    Therese  Kaiserslautern, Germany\n",
       "4   Dannyboy       Frankfurt, Germany\n",
       "5    Matador       Frankfurt, Germany\n",
       "6  Karabiner          Aachen, Germany\n",
       "7      Matty          Aachen, Germany\n",
       "8       Flow       Stuttgart, Germany"
      ]
     },
     "execution_count": 2,
     "metadata": {},
     "output_type": "execute_result"
    }
   ],
   "source": [
    "homelist = [\n",
    "     ['Mike', 'Kaiserslautern, Germany'],\n",
    "     ['Smash', 'Kaiserslautern, Germany'],\n",
    "     ['Yawn', 'Kaiserslautern, Germany'],\n",
    "     ['Therese', 'Kaiserslautern, Germany'],\n",
    "     ['Dannyboy', 'Frankfurt, Germany'],\n",
    "     ['Matador', 'Frankfurt, Germany'],\n",
    "     ['Karabiner', 'Aachen, Germany'],\n",
    "     ['Matty', 'Aachen, Germany'],\n",
    "     ['Flow', 'Stuttgart, Germany']\n",
    "        ]\n",
    "homes = pd.DataFrame(homelist, columns=['person', 'home'])\n",
    "homes"
   ]
  },
  {
   "cell_type": "markdown",
   "metadata": {
    "deletable": true,
    "editable": true
   },
   "source": [
    "For the API, we need a set of destinations and a set of homes. In this case, we can celebrate at anyone's home so we will use the set of homes.\n",
    "\n",
    "Using this information and a [Google Maps api key](https://developers.google.com/maps/documentation/distance-matrix/start), we can build our URL for the distance matrix API."
   ]
  },
  {
   "cell_type": "code",
   "execution_count": 3,
   "metadata": {
    "collapsed": true,
    "deletable": true,
    "editable": true
   },
   "outputs": [],
   "source": [
    "all_homes = homes.home.unique()\n",
    "destinations = all_homes"
   ]
  },
  {
   "cell_type": "markdown",
   "metadata": {},
   "source": [
    "A little trick for entering your API key without putting it in the notebook is using the `getpass` function."
   ]
  },
  {
   "cell_type": "code",
   "execution_count": 4,
   "metadata": {
    "collapsed": false
   },
   "outputs": [
    {
     "name": "stdout",
     "output_type": "stream",
     "text": [
      "········\n"
     ]
    }
   ],
   "source": [
    "from getpass import getpass\n",
    "api_key = getpass()"
   ]
  },
  {
   "cell_type": "markdown",
   "metadata": {},
   "source": [
    "And here we can take advantage of a new Python 3.6 feature, [Formatted string literals](https://docs.python.org/3/whatsnew/3.6.html#whatsnew36-pep498)."
   ]
  },
  {
   "cell_type": "code",
   "execution_count": 5,
   "metadata": {
    "collapsed": false,
    "deletable": true,
    "editable": true
   },
   "outputs": [],
   "source": [
    "params = [\n",
    "    f'origins={\"|\".join(destinations)}',\n",
    "    f'destinations={\"|\".join(destinations)}',\n",
    "    f'mode=driving', # comment this and uncomment below for public transport\n",
    "#     f'mode=transit',\n",
    "    f'key={api_key}',\n",
    "]\n",
    "params = '&'.join(params)\n",
    "url = f'https://maps.googleapis.com/maps/api/distancematrix/json?{params}'"
   ]
  },
  {
   "cell_type": "markdown",
   "metadata": {
    "deletable": true,
    "editable": true
   },
   "source": [
    "Now we just need to fetch the URL."
   ]
  },
  {
   "cell_type": "code",
   "execution_count": 6,
   "metadata": {
    "collapsed": false,
    "deletable": true,
    "editable": true
   },
   "outputs": [
    {
     "data": {
      "text/plain": [
       "{'destination_addresses': ['Kaiserslautern, Germany',\n",
       "  'Frankfurt, Germany',\n",
       "  'Aachen, Germany',\n",
       "  'Stuttgart, Germany'],\n",
       " 'origin_addresses': ['Kaiserslautern, Germany',\n",
       "  'Frankfurt, Germany',\n",
       "  'Aachen, Germany',\n",
       "  'Stuttgart, Germany'],\n",
       " 'rows': [{'elements': [{'distance': {'text': '1 m', 'value': 0},\n",
       "     'duration': {'text': '1 min', 'value': 0},\n",
       "     'status': 'OK'},\n",
       "    {'distance': {'text': '118 km', 'value': 118039},\n",
       "     'duration': {'text': '1 hour 25 mins', 'value': 5123},\n",
       "     'status': 'OK'},\n",
       "    {'distance': {'text': '289 km', 'value': 289084},\n",
       "     'duration': {'text': '2 hours 55 mins', 'value': 10477},\n",
       "     'status': 'OK'},\n",
       "    {'distance': {'text': '197 km', 'value': 197209},\n",
       "     'duration': {'text': '2 hours 6 mins', 'value': 7531},\n",
       "     'status': 'OK'}]},\n",
       "  {'elements': [{'distance': {'text': '118 km', 'value': 117855},\n",
       "     'duration': {'text': '1 hour 26 mins', 'value': 5180},\n",
       "     'status': 'OK'},\n",
       "    {'distance': {'text': '1 m', 'value': 0},\n",
       "     'duration': {'text': '1 min', 'value': 0},\n",
       "     'status': 'OK'},\n",
       "    {'distance': {'text': '263 km', 'value': 262855},\n",
       "     'duration': {'text': '2 hours 41 mins', 'value': 9631},\n",
       "     'status': 'OK'},\n",
       "    {'distance': {'text': '206 km', 'value': 205643},\n",
       "     'duration': {'text': '2 hours 13 mins', 'value': 7952},\n",
       "     'status': 'OK'}]},\n",
       "  {'elements': [{'distance': {'text': '288 km', 'value': 287617},\n",
       "     'duration': {'text': '2 hours 56 mins', 'value': 10544},\n",
       "     'status': 'OK'},\n",
       "    {'distance': {'text': '262 km', 'value': 262357},\n",
       "     'duration': {'text': '2 hours 42 mins', 'value': 9739},\n",
       "     'status': 'OK'},\n",
       "    {'distance': {'text': '1 m', 'value': 0},\n",
       "     'duration': {'text': '1 min', 'value': 0},\n",
       "     'status': 'OK'},\n",
       "    {'distance': {'text': '420 km', 'value': 420472},\n",
       "     'duration': {'text': '4 hours 11 mins', 'value': 15031},\n",
       "     'status': 'OK'}]},\n",
       "  {'elements': [{'distance': {'text': '165 km', 'value': 164964},\n",
       "     'duration': {'text': '2 hours 9 mins', 'value': 7717},\n",
       "     'status': 'OK'},\n",
       "    {'distance': {'text': '206 km', 'value': 206191},\n",
       "     'duration': {'text': '2 hours 15 mins', 'value': 8107},\n",
       "     'status': 'OK'},\n",
       "    {'distance': {'text': '421 km', 'value': 421379},\n",
       "     'duration': {'text': '4 hours 11 mins', 'value': 15088},\n",
       "     'status': 'OK'},\n",
       "    {'distance': {'text': '1 m', 'value': 0},\n",
       "     'duration': {'text': '1 min', 'value': 0},\n",
       "     'status': 'OK'}]}],\n",
       " 'status': 'OK'}"
      ]
     },
     "execution_count": 6,
     "metadata": {},
     "output_type": "execute_result"
    }
   ],
   "source": [
    "r = requests.get(url)\n",
    "content = r.json()\n",
    "content"
   ]
  },
  {
   "cell_type": "markdown",
   "metadata": {},
   "source": [
    "We want this as a list of lists so we can turn it into a data frame."
   ]
  },
  {
   "cell_type": "code",
   "execution_count": 7,
   "metadata": {
    "collapsed": false,
    "deletable": true,
    "editable": true
   },
   "outputs": [
    {
     "data": {
      "text/html": [
       "<div>\n",
       "<style>\n",
       "    .dataframe thead tr:only-child th {\n",
       "        text-align: right;\n",
       "    }\n",
       "\n",
       "    .dataframe thead th {\n",
       "        text-align: left;\n",
       "    }\n",
       "\n",
       "    .dataframe tbody tr th {\n",
       "        vertical-align: top;\n",
       "    }\n",
       "</style>\n",
       "<table border=\"1\" class=\"dataframe\">\n",
       "  <thead>\n",
       "    <tr style=\"text-align: right;\">\n",
       "      <th></th>\n",
       "      <th>Kaiserslautern, Germany</th>\n",
       "      <th>Frankfurt, Germany</th>\n",
       "      <th>Aachen, Germany</th>\n",
       "      <th>Stuttgart, Germany</th>\n",
       "    </tr>\n",
       "  </thead>\n",
       "  <tbody>\n",
       "    <tr>\n",
       "      <th>Kaiserslautern, Germany</th>\n",
       "      <td>00:00:00</td>\n",
       "      <td>01:25:23</td>\n",
       "      <td>02:54:37</td>\n",
       "      <td>02:05:31</td>\n",
       "    </tr>\n",
       "    <tr>\n",
       "      <th>Frankfurt, Germany</th>\n",
       "      <td>01:26:20</td>\n",
       "      <td>00:00:00</td>\n",
       "      <td>02:40:31</td>\n",
       "      <td>02:12:32</td>\n",
       "    </tr>\n",
       "    <tr>\n",
       "      <th>Aachen, Germany</th>\n",
       "      <td>02:55:44</td>\n",
       "      <td>02:42:19</td>\n",
       "      <td>00:00:00</td>\n",
       "      <td>04:10:31</td>\n",
       "    </tr>\n",
       "    <tr>\n",
       "      <th>Stuttgart, Germany</th>\n",
       "      <td>02:08:37</td>\n",
       "      <td>02:15:07</td>\n",
       "      <td>04:11:28</td>\n",
       "      <td>00:00:00</td>\n",
       "    </tr>\n",
       "  </tbody>\n",
       "</table>\n",
       "</div>"
      ],
      "text/plain": [
       "                        Kaiserslautern, Germany Frankfurt, Germany  \\\n",
       "Kaiserslautern, Germany                00:00:00           01:25:23   \n",
       "Frankfurt, Germany                     01:26:20           00:00:00   \n",
       "Aachen, Germany                        02:55:44           02:42:19   \n",
       "Stuttgart, Germany                     02:08:37           02:15:07   \n",
       "\n",
       "                        Aachen, Germany Stuttgart, Germany  \n",
       "Kaiserslautern, Germany        02:54:37           02:05:31  \n",
       "Frankfurt, Germany             02:40:31           02:12:32  \n",
       "Aachen, Germany                00:00:00           04:10:31  \n",
       "Stuttgart, Germany             04:11:28           00:00:00  "
      ]
     },
     "execution_count": 7,
     "metadata": {},
     "output_type": "execute_result"
    }
   ],
   "source": [
    "distance_matrix = [\n",
    "    [datetime.timedelta(seconds=dest['duration']['value']) \n",
    "                    for dest in row['elements']] \n",
    "                   for row in content['rows']]\n",
    "\n",
    "travel_times = pd.DataFrame(\n",
    "    distance_matrix,\n",
    "    columns=content['destination_addresses'],\n",
    "    index=content['origin_addresses']\n",
    ")\n",
    "\n",
    "travel_times"
   ]
  },
  {
   "cell_type": "markdown",
   "metadata": {
    "deletable": true,
    "editable": true
   },
   "source": [
    "Now we have our distance matrix! Or, more correctly, our travel time matrix, which is a much better proxy for cost than distance.\n",
    "\n",
    "Now all we need to do is write a function that will sum all of the individual travel times to create a 'total travel time' for a given destination."
   ]
  },
  {
   "cell_type": "code",
   "execution_count": 8,
   "metadata": {
    "collapsed": false,
    "deletable": true,
    "editable": true
   },
   "outputs": [],
   "source": [
    "def total_travel_time(destination):\n",
    "    dest_times = travel_times[destination].sort_index()\n",
    "    counts = homes.groupby('home').count().sort_index()\n",
    "    counts.index.name = None\n",
    "    person_times = dest_times * counts.person\n",
    "    return person_times.sum()"
   ]
  },
  {
   "cell_type": "markdown",
   "metadata": {
    "deletable": true,
    "editable": true
   },
   "source": [
    "Now we apply this function to the list of destinations and we have an array of costs for each destination."
   ]
  },
  {
   "cell_type": "code",
   "execution_count": 9,
   "metadata": {
    "collapsed": false,
    "deletable": true,
    "editable": true
   },
   "outputs": [
    {
     "data": {
      "text/html": [
       "<div>\n",
       "<style>\n",
       "    .dataframe thead tr:only-child th {\n",
       "        text-align: right;\n",
       "    }\n",
       "\n",
       "    .dataframe thead th {\n",
       "        text-align: left;\n",
       "    }\n",
       "\n",
       "    .dataframe tbody tr th {\n",
       "        vertical-align: top;\n",
       "    }\n",
       "</style>\n",
       "<table border=\"1\" class=\"dataframe\">\n",
       "  <thead>\n",
       "    <tr style=\"text-align: right;\">\n",
       "      <th></th>\n",
       "      <th>total_time</th>\n",
       "    </tr>\n",
       "  </thead>\n",
       "  <tbody>\n",
       "    <tr>\n",
       "      <th>Kaiserslautern, Germany</th>\n",
       "      <td>10:52:45</td>\n",
       "    </tr>\n",
       "    <tr>\n",
       "      <th>Frankfurt, Germany</th>\n",
       "      <td>13:21:17</td>\n",
       "    </tr>\n",
       "    <tr>\n",
       "      <th>Aachen, Germany</th>\n",
       "      <td>21:10:58</td>\n",
       "    </tr>\n",
       "    <tr>\n",
       "      <th>Stuttgart, Germany</th>\n",
       "      <td>21:08:10</td>\n",
       "    </tr>\n",
       "  </tbody>\n",
       "</table>\n",
       "</div>"
      ],
      "text/plain": [
       "                        total_time\n",
       "Kaiserslautern, Germany   10:52:45\n",
       "Frankfurt, Germany        13:21:17\n",
       "Aachen, Germany           21:10:58\n",
       "Stuttgart, Germany        21:08:10"
      ]
     },
     "execution_count": 9,
     "metadata": {},
     "output_type": "execute_result"
    }
   ],
   "source": [
    "tt_df = pd.DataFrame(\n",
    "    list(map(total_travel_time, destinations)),\n",
    "    index=destinations,\n",
    "    columns=['total_time']\n",
    ")\n",
    "\n",
    "tt_df"
   ]
  },
  {
   "cell_type": "markdown",
   "metadata": {
    "deletable": true,
    "editable": true
   },
   "source": [
    "Now we create a bar graph because... bar graphs are an easy way to interpret this data."
   ]
  },
  {
   "cell_type": "code",
   "execution_count": 10,
   "metadata": {
    "collapsed": true,
    "deletable": true,
    "editable": true
   },
   "outputs": [],
   "source": [
    "import numpy as np\n",
    "import matplotlib.pyplot as plt\n",
    "%matplotlib inline"
   ]
  },
  {
   "cell_type": "code",
   "execution_count": 11,
   "metadata": {
    "collapsed": false,
    "deletable": true,
    "editable": true
   },
   "outputs": [
    {
     "data": {
      "text/plain": [
       "<matplotlib.text.Text at 0x1142c3978>"
      ]
     },
     "execution_count": 11,
     "metadata": {},
     "output_type": "execute_result"
    },
    {
     "data": {
      "image/png": "[encoded data removed]",
      "text/plain": [
       "<matplotlib.figure.Figure at 0x11425a048>"
      ]
     },
     "metadata": {},
     "output_type": "display_data"
    }
   ],
   "source": [
    "plt.bar(\n",
    "    left=range(0, 4, 1),\n",
    "    height=tt_df.total_time.apply(datetime.timedelta.total_seconds)/(60*60)\n",
    ")\n",
    "ticks = plt.xticks(range(0, 4, 1), tt_df.index, rotation=45)\n",
    "max_time = max(tt_df.total_time.apply(datetime.timedelta.total_seconds)/(60*60))\n",
    "plt.yticks(np.arange(0,max_time,5))\n",
    "plt.ylabel('hours')\n",
    "plt.xlabel('meeting point')\n",
    "plt.title('cumulative travel times')"
   ]
  },
  {
   "cell_type": "markdown",
   "metadata": {
    "deletable": true,
    "editable": true
   },
   "source": [
    "## Conclusion"
   ]
  },
  {
   "cell_type": "markdown",
   "metadata": {
    "deletable": true,
    "editable": true
   },
   "source": [
    "We should meet in Kaiserslautern. But... What if everyone takes the train?"
   ]
  },
  {
   "cell_type": "markdown",
   "metadata": {},
   "source": [
    "Since we're going to go through all this again, let's try to make it a convenient function."
   ]
  },
  {
   "cell_type": "code",
   "execution_count": 12,
   "metadata": {
    "collapsed": true
   },
   "outputs": [],
   "source": [
    "from IPython.display import display"
   ]
  },
  {
   "cell_type": "code",
   "execution_count": 13,
   "metadata": {
    "collapsed": true
   },
   "outputs": [],
   "source": [
    "def travel_times(homes=None, \n",
    "                 destinations=None,\n",
    "                 travel_mode='driving',\n",
    "                 api_key=api_key):\n",
    "    \n",
    "    all_homes = homes.home.unique()\n",
    "    \n",
    "    params = [\n",
    "        f'origins={\"|\".join(destinations)}',\n",
    "        f'destinations={\"|\".join(destinations)}',\n",
    "        f'mode={travel_mode}',\n",
    "        f'key={api_key}',\n",
    "    ]\n",
    "    params = '&'.join(params)\n",
    "    url = f'https://maps.googleapis.com/maps/api/distancematrix/json?{params}'\n",
    "    \n",
    "    r = requests.get(url)\n",
    "    content = r.json()\n",
    "    \n",
    "    distance_matrix = [\n",
    "        [datetime.timedelta(seconds=dest['duration']['value']) \n",
    "                        for dest in row['elements']] \n",
    "                       for row in content['rows']]\n",
    "\n",
    "    print(f\"Mapping found addresses:\\n{content['origin_addresses']}\\n\\\n",
    "    to given addresses:\\n{homes.home.unique()}.\")\n",
    "    \n",
    "    travel_times = pd.DataFrame(\n",
    "        distance_matrix,\n",
    "        columns=homes.home.unique(),\n",
    "        index=destinations\n",
    "    )\n",
    "    \n",
    "    display(travel_times)\n",
    "    \n",
    "    def total_travel_time(destination):\n",
    "        dest_times = travel_times[destination].sort_index()\n",
    "        counts = homes.groupby('home').count().sort_index()\n",
    "        counts.index.name = None\n",
    "        person_times = dest_times * counts.person\n",
    "        return person_times.sum()\n",
    "    \n",
    "    total_travel_times = list(map(total_travel_time, destinations))\n",
    "\n",
    "    tt_df = pd.DataFrame(\n",
    "        list(map(total_travel_time, destinations)),\n",
    "        index=destinations,\n",
    "        columns=['total_time']\n",
    "    )\n",
    "    \n",
    "    display(tt_df)\n",
    "    \n",
    "    plt.bar(\n",
    "        left=range(0, 4, 1),\n",
    "        height=tt_df.total_time.apply(datetime.timedelta.total_seconds)/(60*60)\n",
    "    )\n",
    "    ticks = plt.xticks(range(0, 4, 1), tt_df.index, rotation=45)\n",
    "    max_time = max(tt_df.total_time.apply(datetime.timedelta.total_seconds)/(60*60))\n",
    "    plt.yticks(np.arange(0,max_time,5))\n",
    "    plt.ylabel('hours')\n",
    "    plt.xlabel('meeting point')\n",
    "    plt.title('cumulative travel times')"
   ]
  },
  {
   "cell_type": "markdown",
   "metadata": {},
   "source": [
    "Now, we can try it out and check we got the same result..."
   ]
  },
  {
   "cell_type": "code",
   "execution_count": 14,
   "metadata": {
    "collapsed": false
   },
   "outputs": [
    {
     "name": "stdout",
     "output_type": "stream",
     "text": [
      "Mapping found addresses:\n",
      "['Kaiserslautern, Germany', 'Frankfurt, Germany', 'Aachen, Germany', 'Stuttgart, Germany']\n",
      "    to given addresses:\n",
      "['Kaiserslautern, Germany' 'Frankfurt, Germany' 'Aachen, Germany'\n",
      " 'Stuttgart, Germany'].\n"
     ]
    },
    {
     "data": {
      "text/html": [
       "<div>\n",
       "<style>\n",
       "    .dataframe thead tr:only-child th {\n",
       "        text-align: right;\n",
       "    }\n",
       "\n",
       "    .dataframe thead th {\n",
       "        text-align: left;\n",
       "    }\n",
       "\n",
       "    .dataframe tbody tr th {\n",
       "        vertical-align: top;\n",
       "    }\n",
       "</style>\n",
       "<table border=\"1\" class=\"dataframe\">\n",
       "  <thead>\n",
       "    <tr style=\"text-align: right;\">\n",
       "      <th></th>\n",
       "      <th>Kaiserslautern, Germany</th>\n",
       "      <th>Frankfurt, Germany</th>\n",
       "      <th>Aachen, Germany</th>\n",
       "      <th>Stuttgart, Germany</th>\n",
       "    </tr>\n",
       "  </thead>\n",
       "  <tbody>\n",
       "    <tr>\n",
       "      <th>Kaiserslautern, Germany</th>\n",
       "      <td>00:00:00</td>\n",
       "      <td>01:25:23</td>\n",
       "      <td>02:54:37</td>\n",
       "      <td>02:05:31</td>\n",
       "    </tr>\n",
       "    <tr>\n",
       "      <th>Frankfurt, Germany</th>\n",
       "      <td>01:26:20</td>\n",
       "      <td>00:00:00</td>\n",
       "      <td>02:40:31</td>\n",
       "      <td>02:12:32</td>\n",
       "    </tr>\n",
       "    <tr>\n",
       "      <th>Aachen, Germany</th>\n",
       "      <td>02:55:44</td>\n",
       "      <td>02:42:19</td>\n",
       "      <td>00:00:00</td>\n",
       "      <td>04:10:31</td>\n",
       "    </tr>\n",
       "    <tr>\n",
       "      <th>Stuttgart, Germany</th>\n",
       "      <td>02:08:37</td>\n",
       "      <td>02:15:07</td>\n",
       "      <td>04:11:28</td>\n",
       "      <td>00:00:00</td>\n",
       "    </tr>\n",
       "  </tbody>\n",
       "</table>\n",
       "</div>"
      ],
      "text/plain": [
       "                        Kaiserslautern, Germany Frankfurt, Germany  \\\n",
       "Kaiserslautern, Germany                00:00:00           01:25:23   \n",
       "Frankfurt, Germany                     01:26:20           00:00:00   \n",
       "Aachen, Germany                        02:55:44           02:42:19   \n",
       "Stuttgart, Germany                     02:08:37           02:15:07   \n",
       "\n",
       "                        Aachen, Germany Stuttgart, Germany  \n",
       "Kaiserslautern, Germany        02:54:37           02:05:31  \n",
       "Frankfurt, Germany             02:40:31           02:12:32  \n",
       "Aachen, Germany                00:00:00           04:10:31  \n",
       "Stuttgart, Germany             04:11:28           00:00:00  "
      ]
     },
     "metadata": {},
     "output_type": "display_data"
    },
    {
     "data": {
      "text/html": [
       "<div>\n",
       "<style>\n",
       "    .dataframe thead tr:only-child th {\n",
       "        text-align: right;\n",
       "    }\n",
       "\n",
       "    .dataframe thead th {\n",
       "        text-align: left;\n",
       "    }\n",
       "\n",
       "    .dataframe tbody tr th {\n",
       "        vertical-align: top;\n",
       "    }\n",
       "</style>\n",
       "<table border=\"1\" class=\"dataframe\">\n",
       "  <thead>\n",
       "    <tr style=\"text-align: right;\">\n",
       "      <th></th>\n",
       "      <th>total_time</th>\n",
       "    </tr>\n",
       "  </thead>\n",
       "  <tbody>\n",
       "    <tr>\n",
       "      <th>Kaiserslautern, Germany</th>\n",
       "      <td>10:52:45</td>\n",
       "    </tr>\n",
       "    <tr>\n",
       "      <th>Frankfurt, Germany</th>\n",
       "      <td>13:21:17</td>\n",
       "    </tr>\n",
       "    <tr>\n",
       "      <th>Aachen, Germany</th>\n",
       "      <td>21:10:58</td>\n",
       "    </tr>\n",
       "    <tr>\n",
       "      <th>Stuttgart, Germany</th>\n",
       "      <td>21:08:10</td>\n",
       "    </tr>\n",
       "  </tbody>\n",
       "</table>\n",
       "</div>"
      ],
      "text/plain": [
       "                        total_time\n",
       "Kaiserslautern, Germany   10:52:45\n",
       "Frankfurt, Germany        13:21:17\n",
       "Aachen, Germany           21:10:58\n",
       "Stuttgart, Germany        21:08:10"
      ]
     },
     "metadata": {},
     "output_type": "display_data"
    },
    {
     "data": {
      "image/png": "[encoded data removed]",
      "text/plain": [
       "<matplotlib.figure.Figure at 0x11425eb00>"
      ]
     },
     "metadata": {},
     "output_type": "display_data"
    }
   ],
   "source": [
    "travel_times(homes=homes, destinations=homes.home.unique())"
   ]
  },
  {
   "cell_type": "markdown",
   "metadata": {},
   "source": [
    "Looks good! Now let's try using public transport."
   ]
  },
  {
   "cell_type": "code",
   "execution_count": 15,
   "metadata": {
    "collapsed": false
   },
   "outputs": [
    {
     "name": "stdout",
     "output_type": "stream",
     "text": [
      "Mapping found addresses:\n",
      "['Kaiserslautern, Germany', 'Frankfurt, Germany', 'Aachen, Germany', 'Stuttgart, Germany']\n",
      "    to given addresses:\n",
      "['Kaiserslautern, Germany' 'Frankfurt, Germany' 'Aachen, Germany'\n",
      " 'Stuttgart, Germany'].\n"
     ]
    },
    {
     "data": {
      "text/html": [
       "<div>\n",
       "<style>\n",
       "    .dataframe thead tr:only-child th {\n",
       "        text-align: right;\n",
       "    }\n",
       "\n",
       "    .dataframe thead th {\n",
       "        text-align: left;\n",
       "    }\n",
       "\n",
       "    .dataframe tbody tr th {\n",
       "        vertical-align: top;\n",
       "    }\n",
       "</style>\n",
       "<table border=\"1\" class=\"dataframe\">\n",
       "  <thead>\n",
       "    <tr style=\"text-align: right;\">\n",
       "      <th></th>\n",
       "      <th>Kaiserslautern, Germany</th>\n",
       "      <th>Frankfurt, Germany</th>\n",
       "      <th>Aachen, Germany</th>\n",
       "      <th>Stuttgart, Germany</th>\n",
       "    </tr>\n",
       "  </thead>\n",
       "  <tbody>\n",
       "    <tr>\n",
       "      <th>Kaiserslautern, Germany</th>\n",
       "      <td>00:00:00</td>\n",
       "      <td>01:22:00</td>\n",
       "      <td>03:31:00</td>\n",
       "      <td>01:41:00</td>\n",
       "    </tr>\n",
       "    <tr>\n",
       "      <th>Frankfurt, Germany</th>\n",
       "      <td>01:35:00</td>\n",
       "      <td>00:00:00</td>\n",
       "      <td>01:51:00</td>\n",
       "      <td>01:27:00</td>\n",
       "    </tr>\n",
       "    <tr>\n",
       "      <th>Aachen, Germany</th>\n",
       "      <td>03:34:00</td>\n",
       "      <td>01:51:00</td>\n",
       "      <td>00:00:00</td>\n",
       "      <td>03:08:00</td>\n",
       "    </tr>\n",
       "    <tr>\n",
       "      <th>Stuttgart, Germany</th>\n",
       "      <td>01:42:00</td>\n",
       "      <td>01:25:00</td>\n",
       "      <td>03:24:00</td>\n",
       "      <td>00:00:00</td>\n",
       "    </tr>\n",
       "  </tbody>\n",
       "</table>\n",
       "</div>"
      ],
      "text/plain": [
       "                        Kaiserslautern, Germany Frankfurt, Germany  \\\n",
       "Kaiserslautern, Germany                00:00:00           01:22:00   \n",
       "Frankfurt, Germany                     01:35:00           00:00:00   \n",
       "Aachen, Germany                        03:34:00           01:51:00   \n",
       "Stuttgart, Germany                     01:42:00           01:25:00   \n",
       "\n",
       "                        Aachen, Germany Stuttgart, Germany  \n",
       "Kaiserslautern, Germany        03:31:00           01:41:00  \n",
       "Frankfurt, Germany             01:51:00           01:27:00  \n",
       "Aachen, Germany                00:00:00           03:08:00  \n",
       "Stuttgart, Germany             03:24:00           00:00:00  "
      ]
     },
     "metadata": {},
     "output_type": "display_data"
    },
    {
     "data": {
      "text/html": [
       "<div>\n",
       "<style>\n",
       "    .dataframe thead tr:only-child th {\n",
       "        text-align: right;\n",
       "    }\n",
       "\n",
       "    .dataframe thead th {\n",
       "        text-align: left;\n",
       "    }\n",
       "\n",
       "    .dataframe tbody tr th {\n",
       "        vertical-align: top;\n",
       "    }\n",
       "</style>\n",
       "<table border=\"1\" class=\"dataframe\">\n",
       "  <thead>\n",
       "    <tr style=\"text-align: right;\">\n",
       "      <th></th>\n",
       "      <th>total_time</th>\n",
       "    </tr>\n",
       "  </thead>\n",
       "  <tbody>\n",
       "    <tr>\n",
       "      <th>Kaiserslautern, Germany</th>\n",
       "      <td>12:00:00</td>\n",
       "    </tr>\n",
       "    <tr>\n",
       "      <th>Frankfurt, Germany</th>\n",
       "      <td>10:35:00</td>\n",
       "    </tr>\n",
       "    <tr>\n",
       "      <th>Aachen, Germany</th>\n",
       "      <td>21:10:00</td>\n",
       "    </tr>\n",
       "    <tr>\n",
       "      <th>Stuttgart, Germany</th>\n",
       "      <td>15:54:00</td>\n",
       "    </tr>\n",
       "  </tbody>\n",
       "</table>\n",
       "</div>"
      ],
      "text/plain": [
       "                        total_time\n",
       "Kaiserslautern, Germany   12:00:00\n",
       "Frankfurt, Germany        10:35:00\n",
       "Aachen, Germany           21:10:00\n",
       "Stuttgart, Germany        15:54:00"
      ]
     },
     "metadata": {},
     "output_type": "display_data"
    },
    {
     "data": {
      "image/png": "[encoded data removed]",
      "text/plain": [
       "<matplotlib.figure.Figure at 0x1142a02e8>"
      ]
     },
     "metadata": {},
     "output_type": "display_data"
    }
   ],
   "source": [
    "travel_times(homes=homes, destinations=homes.home.unique(), travel_mode='transit')"
   ]
  },
  {
   "cell_type": "markdown",
   "metadata": {
    "deletable": true,
    "editable": true
   },
   "source": [
    "## Conclusion\n",
    "We should meet in Frankfurt."
   ]
  },
  {
   "cell_type": "markdown",
   "metadata": {},
   "source": [
    "# London\n",
    "\n",
    "So, I'm from London and we all used to meet up at Adam's house. Let's see how sensible that was."
   ]
  },
  {
   "cell_type": "code",
   "execution_count": 16,
   "metadata": {
    "collapsed": false
   },
   "outputs": [
    {
     "data": {
      "text/html": [
       "<div>\n",
       "<style>\n",
       "    .dataframe thead tr:only-child th {\n",
       "        text-align: right;\n",
       "    }\n",
       "\n",
       "    .dataframe thead th {\n",
       "        text-align: left;\n",
       "    }\n",
       "\n",
       "    .dataframe tbody tr th {\n",
       "        vertical-align: top;\n",
       "    }\n",
       "</style>\n",
       "<table border=\"1\" class=\"dataframe\">\n",
       "  <thead>\n",
       "    <tr style=\"text-align: right;\">\n",
       "      <th></th>\n",
       "      <th>person</th>\n",
       "      <th>home</th>\n",
       "    </tr>\n",
       "  </thead>\n",
       "  <tbody>\n",
       "    <tr>\n",
       "      <th>0</th>\n",
       "      <td>Bodger</td>\n",
       "      <td>Putney Bridge, London</td>\n",
       "    </tr>\n",
       "    <tr>\n",
       "      <th>1</th>\n",
       "      <td>Cully</td>\n",
       "      <td>Dalston Kingsland, London</td>\n",
       "    </tr>\n",
       "    <tr>\n",
       "      <th>2</th>\n",
       "      <td>Worth</td>\n",
       "      <td>North Harrow, London</td>\n",
       "    </tr>\n",
       "    <tr>\n",
       "      <th>3</th>\n",
       "      <td>Polski</td>\n",
       "      <td>Richmond, London</td>\n",
       "    </tr>\n",
       "  </tbody>\n",
       "</table>\n",
       "</div>"
      ],
      "text/plain": [
       "   person                       home\n",
       "0  Bodger      Putney Bridge, London\n",
       "1   Cully  Dalston Kingsland, London\n",
       "2   Worth       North Harrow, London\n",
       "3  Polski           Richmond, London"
      ]
     },
     "execution_count": 16,
     "metadata": {},
     "output_type": "execute_result"
    }
   ],
   "source": [
    "london_homes = [\n",
    "     ['Bodger', 'Putney Bridge, London'],\n",
    "     ['Cully', 'Dalston Kingsland, London'],\n",
    "     ['Worth',  'North Harrow, London'],\n",
    "     ['Polski', 'Richmond, London'],\n",
    "        ]\n",
    "london_homes = pd.DataFrame(london_homes, columns=['person', 'home'])\n",
    "london_homes"
   ]
  },
  {
   "cell_type": "code",
   "execution_count": 17,
   "metadata": {
    "collapsed": false,
    "scrolled": false
   },
   "outputs": [
    {
     "name": "stdout",
     "output_type": "stream",
     "text": [
      "Mapping found addresses:\n",
      "['Putney Bridge, London SW15, UK', 'London E8 2PA, UK', 'North Harrow, Harrow HA2 7LF, UK', 'Richmond, UK']\n",
      "    to given addresses:\n",
      "['Putney Bridge, London' 'Dalston Kingsland, London' 'North Harrow, London'\n",
      " 'Richmond, London'].\n"
     ]
    },
    {
     "data": {
      "text/html": [
       "<div>\n",
       "<style>\n",
       "    .dataframe thead tr:only-child th {\n",
       "        text-align: right;\n",
       "    }\n",
       "\n",
       "    .dataframe thead th {\n",
       "        text-align: left;\n",
       "    }\n",
       "\n",
       "    .dataframe tbody tr th {\n",
       "        vertical-align: top;\n",
       "    }\n",
       "</style>\n",
       "<table border=\"1\" class=\"dataframe\">\n",
       "  <thead>\n",
       "    <tr style=\"text-align: right;\">\n",
       "      <th></th>\n",
       "      <th>Putney Bridge, London</th>\n",
       "      <th>Dalston Kingsland, London</th>\n",
       "      <th>North Harrow, London</th>\n",
       "      <th>Richmond, London</th>\n",
       "    </tr>\n",
       "  </thead>\n",
       "  <tbody>\n",
       "    <tr>\n",
       "      <th>Putney Bridge, London</th>\n",
       "      <td>00:00:00</td>\n",
       "      <td>01:08:06</td>\n",
       "      <td>01:05:19</td>\n",
       "      <td>00:14:56</td>\n",
       "    </tr>\n",
       "    <tr>\n",
       "      <th>Dalston Kingsland, London</th>\n",
       "      <td>00:37:39</td>\n",
       "      <td>00:00:00</td>\n",
       "      <td>00:40:04</td>\n",
       "      <td>00:52:00</td>\n",
       "    </tr>\n",
       "    <tr>\n",
       "      <th>North Harrow, London</th>\n",
       "      <td>01:04:49</td>\n",
       "      <td>00:56:48</td>\n",
       "      <td>00:00:00</td>\n",
       "      <td>01:03:31</td>\n",
       "    </tr>\n",
       "    <tr>\n",
       "      <th>Richmond, London</th>\n",
       "      <td>00:15:07</td>\n",
       "      <td>00:48:00</td>\n",
       "      <td>00:58:15</td>\n",
       "      <td>00:00:00</td>\n",
       "    </tr>\n",
       "  </tbody>\n",
       "</table>\n",
       "</div>"
      ],
      "text/plain": [
       "                          Putney Bridge, London Dalston Kingsland, London  \\\n",
       "Putney Bridge, London                  00:00:00                  01:08:06   \n",
       "Dalston Kingsland, London              00:37:39                  00:00:00   \n",
       "North Harrow, London                   01:04:49                  00:56:48   \n",
       "Richmond, London                       00:15:07                  00:48:00   \n",
       "\n",
       "                          North Harrow, London Richmond, London  \n",
       "Putney Bridge, London                 01:05:19         00:14:56  \n",
       "Dalston Kingsland, London             00:40:04         00:52:00  \n",
       "North Harrow, London                  00:00:00         01:03:31  \n",
       "Richmond, London                      00:58:15         00:00:00  "
      ]
     },
     "metadata": {},
     "output_type": "display_data"
    },
    {
     "data": {
      "text/html": [
       "<div>\n",
       "<style>\n",
       "    .dataframe thead tr:only-child th {\n",
       "        text-align: right;\n",
       "    }\n",
       "\n",
       "    .dataframe thead th {\n",
       "        text-align: left;\n",
       "    }\n",
       "\n",
       "    .dataframe tbody tr th {\n",
       "        vertical-align: top;\n",
       "    }\n",
       "</style>\n",
       "<table border=\"1\" class=\"dataframe\">\n",
       "  <thead>\n",
       "    <tr style=\"text-align: right;\">\n",
       "      <th></th>\n",
       "      <th>total_time</th>\n",
       "    </tr>\n",
       "  </thead>\n",
       "  <tbody>\n",
       "    <tr>\n",
       "      <th>Putney Bridge, London</th>\n",
       "      <td>01:57:35</td>\n",
       "    </tr>\n",
       "    <tr>\n",
       "      <th>Dalston Kingsland, London</th>\n",
       "      <td>02:52:54</td>\n",
       "    </tr>\n",
       "    <tr>\n",
       "      <th>North Harrow, London</th>\n",
       "      <td>02:43:38</td>\n",
       "    </tr>\n",
       "    <tr>\n",
       "      <th>Richmond, London</th>\n",
       "      <td>02:10:27</td>\n",
       "    </tr>\n",
       "  </tbody>\n",
       "</table>\n",
       "</div>"
      ],
      "text/plain": [
       "                          total_time\n",
       "Putney Bridge, London       01:57:35\n",
       "Dalston Kingsland, London   02:52:54\n",
       "North Harrow, London        02:43:38\n",
       "Richmond, London            02:10:27"
      ]
     },
     "metadata": {},
     "output_type": "display_data"
    },
    {
     "data": {
      "image/png": "[encoded data removed]",
      "text/plain": [
       "<matplotlib.figure.Figure at 0x11458ba20>"
      ]
     },
     "metadata": {},
     "output_type": "display_data"
    }
   ],
   "source": [
    "travel_times(homes=london_homes,\n",
    "             destinations=london_homes.home.unique(), \n",
    "             travel_mode='transit')"
   ]
  }
 ],
 "metadata": {
  "kernelspec": {
   "display_name": "Python 3",
   "language": "python",
   "name": "python3"
  },
  "language_info": {
   "codemirror_mode": {
    "name": "ipython",
    "version": 3
   },
   "file_extension": ".py",
   "mimetype": "text/x-python",
   "name": "python",
   "nbconvert_exporter": "python",
   "pygments_lexer": "ipython3",
   "version": "3.6.1"
  }
 },
 "nbformat": 4,
 "nbformat_minor": 2
}
